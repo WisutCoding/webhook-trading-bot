{
 "cells": [
  {
   "cell_type": "code",
   "execution_count": 52,
   "metadata": {},
   "outputs": [],
   "source": [
    "from binance.client import Client\n",
    "from binance.enums import *\n",
    "import pandas as pd\n",
    "import json\n",
    "# import math\n",
    "# import decimal"
   ]
  },
  {
   "cell_type": "code",
   "execution_count": 2,
   "metadata": {},
   "outputs": [],
   "source": [
    "# import os, sys\n",
    "# lib_path = os.path.abspath('\\Ref')\n",
    "# sys.path.append(lib_path)\n",
    "\n",
    "import config\n",
    "client = Client(config.API_KEY, config.API_SECRET)"
   ]
  },
  {
   "cell_type": "code",
   "execution_count": 17,
   "metadata": {},
   "outputs": [],
   "source": [
    "# def round_down(n, decimals=0):\n",
    "#     multiplier = 10 ** decimals\n",
    "#     return math.floor(n * multiplier) / multiplier"
   ]
  },
  {
   "cell_type": "code",
   "execution_count": 87,
   "metadata": {},
   "outputs": [],
   "source": [
    "account_info= client.get_account()\n",
    "\n",
    "df = pd.DataFrame(account_info['balances'])\n",
    "\n",
    "usdt_info = df.loc[df['asset']== 'USDT']\n",
    "usdt_amount = pd.to_numeric(usdt_info['free'].values[0])\n",
    "\n",
    "btc_info = df.loc[df['asset']== 'BTC']\n",
    "btc_amount = pd.to_numeric(btc_info['free'].values[0])"
   ]
  },
  {
   "cell_type": "code",
   "execution_count": 93,
   "metadata": {},
   "outputs": [
    {
     "name": "stdout",
     "output_type": "stream",
     "text": [
      "0.00052\n",
      "0.00012\n"
     ]
    }
   ],
   "source": [
    "# Get Price\n",
    "close_price = 38420.81\n",
    "\n",
    "bet_ratio = 0.25\n",
    "\n",
    "buy_btc_amt = (bet_ratio*usdt_amount/close_price)*100000//1/100000    #>> 0.xxxxx\n",
    "sell_btc_amt = bet_ratio*btc_amount*100000//1/100000   \n",
    "\n",
    "print(buy_btc_amt)\n",
    "print(sell_btc_amt)"
   ]
  },
  {
   "cell_type": "code",
   "execution_count": null,
   "metadata": {},
   "outputs": [],
   "source": [
    "price = data['bar']['close']\n",
    "price"
   ]
  },
  {
   "cell_type": "code",
   "execution_count": 65,
   "metadata": {},
   "outputs": [
    {
     "name": "stdout",
     "output_type": "stream",
     "text": [
      "99.49752248\n",
      "8e-06\n"
     ]
    }
   ],
   "source": [
    "print(usdt_amount)\n",
    "print(btc_amount)"
   ]
  },
  {
   "cell_type": "code",
   "execution_count": 28,
   "metadata": {},
   "outputs": [],
   "source": [
    "def order(side, quantity, symbol,order_type=ORDER_TYPE_MARKET):\n",
    "    try:\n",
    "        print(f\"sending order {order_type} - {side} {quantity} {symbol}\")\n",
    "        order = client.create_order(symbol=symbol, side=side, type=order_type, quantity=quantity)\n",
    "\n",
    "    except Exception as e:\n",
    "        print(\"an exception occured - {}\".format(e))\n",
    "        return False\n",
    "\n",
    "    return order"
   ]
  },
  {
   "cell_type": "code",
   "execution_count": 82,
   "metadata": {},
   "outputs": [
    {
     "name": "stdout",
     "output_type": "stream",
     "text": [
      "sending order MARKET - BUY 0.00051 BTCUSDT\n"
     ]
    }
   ],
   "source": [
    "order_action = \"BUY\"\n",
    "amount = 0.00051\n",
    "symbol = \"BTCUSDT\"\n",
    "order_response = order(order_action, amount, symbol) # buy BTC"
   ]
  },
  {
   "cell_type": "code",
   "execution_count": 31,
   "metadata": {},
   "outputs": [
    {
     "name": "stdout",
     "output_type": "stream",
     "text": [
      "{'symbol': 'BTCUSDT', 'orderId': 9700102060, 'orderListId': -1, 'clientOrderId': '88yzgMimMWsHTRO2ejHj1b', 'transactTime': 1646640186862, 'price': '0.00000000', 'origQty': '0.00050000', 'executedQty': '0.00050000', 'cummulativeQuoteQty': '18.93101000', 'status': 'FILLED', 'timeInForce': 'GTC', 'type': 'MARKET', 'side': 'BUY', 'fills': [{'price': '37862.02000000', 'qty': '0.00050000', 'commission': '0.00000050', 'commissionAsset': 'BTC', 'tradeId': 1283089864}]}\n"
     ]
    }
   ],
   "source": [
    "print(order_response)"
   ]
  },
  {
   "cell_type": "code",
   "execution_count": 89,
   "metadata": {},
   "outputs": [
    {
     "name": "stdout",
     "output_type": "stream",
     "text": [
      "sending order MARKET - SELL 0.00051 BTCUSDT\n"
     ]
    }
   ],
   "source": [
    "order_action = \"SELL\"\n",
    "amount = 0.00051\n",
    "symbol = \"BTCUSDT\"\n",
    "order_response = order(order_action, amount, symbol) # SELL BTC"
   ]
  },
  {
   "cell_type": "code",
   "execution_count": 34,
   "metadata": {},
   "outputs": [
    {
     "name": "stdout",
     "output_type": "stream",
     "text": [
      "{'symbol': 'BTCUSDT', 'orderId': 9700115452, 'orderListId': -1, 'clientOrderId': 'Dx81TLFQfWnhIZAkzz7gf0', 'transactTime': 1646640234216, 'price': '0.00000000', 'origQty': '0.00050000', 'executedQty': '0.00050000', 'cummulativeQuoteQty': '18.91488000', 'status': 'FILLED', 'timeInForce': 'GTC', 'type': 'MARKET', 'side': 'SELL', 'fills': [{'price': '37829.76000000', 'qty': '0.00050000', 'commission': '0.01891488', 'commissionAsset': 'USDT', 'tradeId': 1283090602}]}\n"
     ]
    }
   ],
   "source": [
    "print(order_response)"
   ]
  },
  {
   "cell_type": "code",
   "execution_count": 8,
   "metadata": {},
   "outputs": [],
   "source": [
    "from binance_script import binance_free_amount\n",
    "\n",
    "import json\n",
    "import config\n",
    "from flask import Flask, request, render_template\n",
    "from binance.client import Client\n",
    "from binance.enums import *\n",
    "import pandas as pd\n"
   ]
  },
  {
   "cell_type": "code",
   "execution_count": 10,
   "metadata": {},
   "outputs": [
    {
     "name": "stdout",
     "output_type": "stream",
     "text": [
      "retrieve balance_free error - name 'Client' is not defined\n"
     ]
    }
   ],
   "source": [
    "\n",
    "a = binance_free_amount('USDT')"
   ]
  },
  {
   "cell_type": "code",
   "execution_count": null,
   "metadata": {},
   "outputs": [],
   "source": []
  }
 ],
 "metadata": {
  "kernelspec": {
   "display_name": "Python 3.8.12 ('base')",
   "language": "python",
   "name": "python3"
  },
  "language_info": {
   "codemirror_mode": {
    "name": "ipython",
    "version": 3
   },
   "file_extension": ".py",
   "mimetype": "text/x-python",
   "name": "python",
   "nbconvert_exporter": "python",
   "pygments_lexer": "ipython3",
   "version": "3.8.12"
  },
  "orig_nbformat": 4,
  "vscode": {
   "interpreter": {
    "hash": "9691719e8c11304b1807fcc4c40d1362e9078c37495c773686c399f2d7ac4a3d"
   }
  }
 },
 "nbformat": 4,
 "nbformat_minor": 2
}
