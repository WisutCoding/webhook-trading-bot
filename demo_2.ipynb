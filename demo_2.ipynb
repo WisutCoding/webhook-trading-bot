{
 "cells": [
  {
   "cell_type": "code",
   "execution_count": 1,
   "metadata": {},
   "outputs": [],
   "source": [
    "from flask import Flask, request, render_template\n",
    "from binance.client import Client\n",
    "from binance.enums import *\n",
    "import pandas as pd\n",
    "import json\n",
    "import config\n",
    "import binance_script as my_bnc"
   ]
  },
  {
   "cell_type": "code",
   "execution_count": 4,
   "metadata": {},
   "outputs": [],
   "source": [
    "wbhook = {\n",
    "\"passphrase\":\"webhook_620664\",\n",
    "\"symbol\":\"BTCUSDT\",\n",
    "\"base_currency\":\"USDT\",\n",
    "\"side\":\"SELL\",\n",
    "\"buy_fixed_or_ratio\":\"fixed\",\n",
    "\"sell_fixed_or_ratio\":\"ratio\",\n",
    "\"buy_ratio_percent\":\"100\",\n",
    "\"buy_fixed_amount_USDT\":\"20\",\n",
    "\"sell_ratio_percent\":\"100\",\n",
    "\"sell_fixed_amount_USDT\":\"20\",\n",
    "\"take_profit_percent\":\"30\",\n",
    "\"stop_loss_percent\":\"20\",\n",
    "\"trailing_stop_(no/historical/callback)\":\"no\",\n",
    "\"trailing_stop_activation_percent\":\"20\",\n",
    "\"trailing_stop_historical_bar\":\"10\",\n",
    "\"trailing_stop_callback_rate\":\"20\"\n",
    "}"
   ]
  },
  {
   "cell_type": "code",
   "execution_count": 5,
   "metadata": {},
   "outputs": [
    {
     "data": {
      "text/plain": [
       "107.67853723"
      ]
     },
     "execution_count": 5,
     "metadata": {},
     "output_type": "execute_result"
    }
   ],
   "source": [
    "##########################################################################\n",
    "# get webhook data\n",
    "\n",
    "passphrase = wbhook['passphrase']\n",
    "base_currency = wbhook['base_currency']\n",
    "\n",
    "symbol = wbhook['symbol']\n",
    "target_symbol = symbol.split(base_currency)[0]\n",
    "\n",
    "side = wbhook['side']\n",
    "\n",
    "buy_ratio_percent = float(wbhook['buy_ratio_percent'])\n",
    "buy_fixed_amount_USDT = float(wbhook['buy_fixed_amount_USDT'])\n",
    "buy_fixed_or_ratio = wbhook['buy_fixed_or_ratio']\n",
    "\n",
    "sell_ratio_percent = float(wbhook['sell_ratio_percent'])\n",
    "sell_fixed_amount_USDT = float(wbhook['sell_fixed_amount_USDT'])\n",
    "sell_fixed_or_ratio = wbhook['sell_fixed_or_ratio']\n",
    "\n",
    "# take_profit_percent = float(wbhook['take_profit_percent'])\n",
    "# stop_loss_percent = float(wbhook['stop_loss_percent'])\n",
    "\n",
    "# trailing_stop_Type = wbhook['trailing_stop_(no/historical/callback)']\n",
    "# trailing_stop_activation_percent = float(wbhook['trailing_stop_activation_percent'])\n",
    "# trailing_stop_historical_bar = float(wbhook['trailing_stop_historical_bar'])\n",
    "# trailing_stop_callback_rate = float(wbhook['trailing_stop_callback_rate'])\n",
    "\n",
    "##########################################################################\n",
    "# setup client\n",
    "\n",
    "client = Client(config.API_KEY_1, config.API_SECRET_1)\n",
    "\n",
    "##########################################################################\n",
    "# check account balance free\n",
    "\n",
    "account_info= client.get_account()\n",
    "\n",
    "df_account = pd.DataFrame(account_info['balances'])\n",
    "\n",
    "df_balance = pd.DataFrame()\n",
    "df_balance['asset'] = df_account['asset'].astype(str)\n",
    "df_balance['free'] = df_account['free'].astype(float)\n",
    "df_balance['locked'] = df_account['locked'].astype(float)\n",
    "\n",
    "df_free = df_balance[df_balance['free']>0]\n",
    "\n",
    "# balance free by symbol\n",
    "# base_balance = float(df_free['free'].loc[df_free['asset'] == base_currency])\n",
    "# target_balance = float(df_free['free'].loc[df_free['asset'] == target_symbol])\n",
    "\n",
    "base_balance = float(df_free['free'])\n",
    "\n",
    "base_balance"
   ]
  },
  {
   "cell_type": "code",
   "execution_count": 14,
   "metadata": {},
   "outputs": [
    {
     "ename": "AttributeError",
     "evalue": "'float' object has no attribute 'info'",
     "output_type": "error",
     "traceback": [
      "\u001b[1;31m---------------------------------------------------------------------------\u001b[0m",
      "\u001b[1;31mAttributeError\u001b[0m                            Traceback (most recent call last)",
      "\u001b[1;32mc:\\Users\\Wisut.K\\Code\\binance-btc-rsi-strategy-1\\demo_2.ipynb Cell 4\u001b[0m in \u001b[0;36m<cell line: 1>\u001b[1;34m()\u001b[0m\n\u001b[1;32m----> <a href='vscode-notebook-cell:/c%3A/Users/Wisut.K/Code/binance-btc-rsi-strategy-1/demo_2.ipynb#ch0000004?line=0'>1</a>\u001b[0m base_balance\u001b[39m.\u001b[39;49minfo()\n",
      "\u001b[1;31mAttributeError\u001b[0m: 'float' object has no attribute 'info'"
     ]
    }
   ],
   "source": [
    "base_balance.info()"
   ]
  },
  {
   "cell_type": "code",
   "execution_count": null,
   "metadata": {},
   "outputs": [],
   "source": []
  }
 ],
 "metadata": {
  "kernelspec": {
   "display_name": "Python 3.8.12 ('base')",
   "language": "python",
   "name": "python3"
  },
  "language_info": {
   "codemirror_mode": {
    "name": "ipython",
    "version": 3
   },
   "file_extension": ".py",
   "mimetype": "text/x-python",
   "name": "python",
   "nbconvert_exporter": "python",
   "pygments_lexer": "ipython3",
   "version": "3.8.12"
  },
  "orig_nbformat": 4,
  "vscode": {
   "interpreter": {
    "hash": "9691719e8c11304b1807fcc4c40d1362e9078c37495c773686c399f2d7ac4a3d"
   }
  }
 },
 "nbformat": 4,
 "nbformat_minor": 2
}
