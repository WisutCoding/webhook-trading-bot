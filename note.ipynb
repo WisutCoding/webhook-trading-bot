{
 "cells": [
  {
   "cell_type": "code",
   "execution_count": 67,
   "metadata": {},
   "outputs": [],
   "source": [
    "from binance.client import Client\n",
    "from binance.enums import *\n",
    "import pandas as pd\n",
    "import math\n",
    "import decimal"
   ]
  },
  {
   "cell_type": "code",
   "execution_count": 7,
   "metadata": {},
   "outputs": [],
   "source": [
    "import os, sys\n",
    "lib_path = os.path.abspath('\\Ref')\n",
    "sys.path.append(lib_path)\n",
    "\n",
    "import config"
   ]
  },
  {
   "cell_type": "code",
   "execution_count": 8,
   "metadata": {},
   "outputs": [
    {
     "name": "stdout",
     "output_type": "stream",
     "text": [
      "6Zzgfz14jvzugfqRfw8kj3ayEkQFCWyz3LPdE0OSh6GkUbwr8GOly6GLisj2LJlI\n",
      "0vSAxPZEfEvLX9Oq2kTQ2Po7iiaIV3V4qpKQT3KerCscdJbvqzfWLbHIbYz8pLtp\n"
     ]
    }
   ],
   "source": [
    "print(config.API_KEY)\n",
    "print(config.API_SECRET)"
   ]
  },
  {
   "cell_type": "code",
   "execution_count": 9,
   "metadata": {},
   "outputs": [],
   "source": [
    "client = Client(config.API_KEY, config.API_SECRET)"
   ]
  },
  {
   "cell_type": "code",
   "execution_count": 81,
   "metadata": {},
   "outputs": [],
   "source": [
    "def round_down(n, decimals=0):\n",
    "    multiplier = 10 ** decimals\n",
    "    return math.floor(n * multiplier) / multiplier\n",
    "\n",
    "account_info= client.get_account()\n",
    "\n",
    "df = pd.DataFrame(account_info['balances'])\n",
    "\n",
    "usdt_info = df.loc[df['asset']== 'USDT']\n",
    "usdt_amount = round_down(pd.to_numeric(usdt_info['free']),2)\n",
    "\n",
    "btc_info = df.loc[df['asset']== 'BTC']\n",
    "btc_amount = round_down(pd.to_numeric(btc_info['free']),4)\n"
   ]
  },
  {
   "cell_type": "code",
   "execution_count": null,
   "metadata": {},
   "outputs": [],
   "source": [
    "account_info"
   ]
  },
  {
   "cell_type": "code",
   "execution_count": 93,
   "metadata": {},
   "outputs": [
    {
     "data": {
      "text/plain": [
       "99.53"
      ]
     },
     "execution_count": 93,
     "metadata": {},
     "output_type": "execute_result"
    }
   ],
   "source": [
    "usdt_amount\n"
   ]
  },
  {
   "cell_type": "code",
   "execution_count": 94,
   "metadata": {},
   "outputs": [
    {
     "data": {
      "text/plain": [
       "0.0"
      ]
     },
     "execution_count": 94,
     "metadata": {},
     "output_type": "execute_result"
    }
   ],
   "source": [
    "btc_amount"
   ]
  },
  {
   "cell_type": "code",
   "execution_count": 110,
   "metadata": {},
   "outputs": [
    {
     "data": {
      "text/plain": [
       "False"
      ]
     },
     "execution_count": 110,
     "metadata": {},
     "output_type": "execute_result"
    }
   ],
   "source": []
  },
  {
   "cell_type": "code",
   "execution_count": 118,
   "metadata": {},
   "outputs": [
    {
     "name": "stdout",
     "output_type": "stream",
     "text": [
      "amount >>  99.53\n"
     ]
    }
   ],
   "source": [
    "order_action = \"BUY\"\n",
    "    \n",
    "if order_action == \"BUY\":\n",
    "    amount = usdt_amount\n",
    "    print('amount >> ',str(amount))\n",
    "else:\n",
    "    amount = btc_amount\n",
    "    print('amount >> ',str(amount))"
   ]
  },
  {
   "cell_type": "code",
   "execution_count": null,
   "metadata": {},
   "outputs": [],
   "source": []
  }
 ],
 "metadata": {
  "interpreter": {
   "hash": "5a8c9542026e3705726baa0a99cce39d7d0d5159fa64abb8cbb5b847786dae53"
  },
  "kernelspec": {
   "display_name": "Python 3.8.12 ('base')",
   "language": "python",
   "name": "python3"
  },
  "language_info": {
   "codemirror_mode": {
    "name": "ipython",
    "version": 3
   },
   "file_extension": ".py",
   "mimetype": "text/x-python",
   "name": "python",
   "nbconvert_exporter": "python",
   "pygments_lexer": "ipython3",
   "version": "3.8.12"
  },
  "orig_nbformat": 4
 },
 "nbformat": 4,
 "nbformat_minor": 2
}
