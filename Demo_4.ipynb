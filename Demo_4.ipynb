{
 "cells": [
  {
   "cell_type": "code",
   "execution_count": 36,
   "metadata": {},
   "outputs": [],
   "source": [
    "from flask import Flask, request, render_template\n",
    "from binance.client import Client\n",
    "from binance.enums import *\n",
    "import pandas as pd\n",
    "import json"
   ]
  },
  {
   "cell_type": "code",
   "execution_count": 37,
   "metadata": {},
   "outputs": [],
   "source": [
    "import config\n",
    "import binance_script as my_bnc"
   ]
  },
  {
   "cell_type": "code",
   "execution_count": 48,
   "metadata": {},
   "outputs": [],
   "source": [
    "# receive webhook\n",
    "\n",
    "wbhook = {\n",
    "\"passphrase\":\"mybot_12345\",\n",
    "\"base_currency\":\"USDT\",\n",
    "\n",
    "\"symbol\":\"BTCUSDT\",\n",
    "\"side\":\"SELL\",\n",
    "\n",
    "\"buy_fixed_or_ratio\":\"fixed\",\n",
    "\"sell_fixed_or_ratio\":\"ratio\",\n",
    "\n",
    "\"buy_ratio_percent\":\"100\",\n",
    "\"sell_ratio_percent\":\"100\",\n",
    "\"buy_fixed_amount_USDT\":\"20\",\n",
    "\"sell_fixed_amount_USDT\":\"10\",\n",
    "\n",
    "\"take_profit_percent\":\"30\",\n",
    "\"stop_loss_percent\":\"20\",\n",
    "\n",
    "\"trailing_stop_(no/historical/callback)\":\"no\",\n",
    "\"trailing_stop_activation_percent\":\"20\",\n",
    "\"trailing_stop_historical_bar\":\"10\",\n",
    "\"trailing_stop_callback_rate\":\"20\"\n",
    "}"
   ]
  },
  {
   "cell_type": "code",
   "execution_count": 49,
   "metadata": {},
   "outputs": [
    {
     "name": "stdout",
     "output_type": "stream",
     "text": [
      "passphrase:mybot_12345\n",
      "\n",
      "symbol:BTCUSDT\n",
      "target_symbol:BTC\n",
      "base_currency:USDT\n",
      "side:SELL\n",
      "\n",
      "buy_ratio_percent:100.0\n",
      "buy_fixed_amount_USDT:20.0\n",
      "buy_fixed_or_ratio:fixed\n",
      "\n",
      "sell_ratio_percent:100.0\n",
      "sell_fixed_amount_USDT:10.0\n",
      "sell_fixed_or_ratio:ratio\n",
      "take_profit_percent:30.0\n",
      "stop_loss_percent:20.0\n",
      "\n",
      "trailing_stop_Type:no\n",
      "trailing_stop_activation_percent:20.0\n",
      "trailing_stop_historical_bar:10.0\n",
      "trailing_stop_callback_rate:20.0\n"
     ]
    }
   ],
   "source": [
    "# get webhook wbhook\n",
    "\n",
    "passphrase = wbhook['passphrase']\n",
    "base_currency = wbhook['base_currency']\n",
    "\n",
    "symbol = wbhook['symbol']\n",
    "target_symbol = symbol.split(base_currency)[0]\n",
    "\n",
    "side = wbhook['side']\n",
    "\n",
    "buy_ratio_percent = float(wbhook['buy_ratio_percent'])\n",
    "buy_fixed_amount_USDT = float(wbhook['buy_fixed_amount_USDT'])\n",
    "buy_fixed_or_ratio = wbhook['buy_fixed_or_ratio']\n",
    "\n",
    "sell_ratio_percent = float(wbhook['sell_ratio_percent'])\n",
    "sell_fixed_amount_USDT = float(wbhook['sell_fixed_amount_USDT'])\n",
    "sell_fixed_or_ratio = wbhook['sell_fixed_or_ratio']\n",
    "\n",
    "take_profit_percent = float(wbhook['take_profit_percent'])\n",
    "stop_loss_percent = float(wbhook['stop_loss_percent'])\n",
    "\n",
    "trailing_stop_Type = wbhook['trailing_stop_(no/historical/callback)']\n",
    "trailing_stop_activation_percent = float(wbhook['trailing_stop_activation_percent'])\n",
    "trailing_stop_historical_bar = float(wbhook['trailing_stop_historical_bar'])\n",
    "trailing_stop_callback_rate = float(wbhook['trailing_stop_callback_rate'])\n",
    "\n",
    "#################################################################################################\n",
    "\n",
    "print(f\"passphrase:{passphrase}\\n\\nsymbol:{symbol}\\ntarget_symbol:{target_symbol}\\nbase_currency:{base_currency}\\nside:{side}\\n\\nbuy_ratio_percent:{buy_ratio_percent}\\nbuy_fixed_amount_USDT:{buy_fixed_amount_USDT}\\nbuy_fixed_or_ratio:{buy_fixed_or_ratio}\\n\\nsell_ratio_percent:{sell_ratio_percent}\\nsell_fixed_amount_USDT:{sell_fixed_amount_USDT}\\nsell_fixed_or_ratio:{sell_fixed_or_ratio}\\ntake_profit_percent:{take_profit_percent}\\nstop_loss_percent:{stop_loss_percent}\\n\\ntrailing_stop_Type:{trailing_stop_Type}\\ntrailing_stop_activation_percent:{trailing_stop_activation_percent}\\ntrailing_stop_historical_bar:{trailing_stop_historical_bar}\\ntrailing_stop_callback_rate:{trailing_stop_callback_rate}\")\n"
   ]
  },
  {
   "cell_type": "code",
   "execution_count": 50,
   "metadata": {},
   "outputs": [
    {
     "name": "stdout",
     "output_type": "stream",
     "text": [
      "USDT: 87.5830843\n",
      "BTC: 0.00088\n"
     ]
    }
   ],
   "source": [
    "# check user\n",
    "if passphrase == config.WEBHOOK_PASSPHRASE_1:\n",
    "    client = Client(config.API_KEY_1, config.API_SECRET_1)\n",
    "    user_no = 1\n",
    "elif passphrase == config.WEBHOOK_PASSPHRASE_2:\n",
    "    client = Client(config.API_KEY_2, config.API_SECRET_2)\n",
    "    user_no = 2\n",
    "else:\n",
    "    user_no = \"N/A\"\n",
    "\n",
    "# check account balance\n",
    "try:\n",
    "    base_balance = float(my_bnc.check_balance(base_currency, user_no))\n",
    "except Exception as e:\n",
    "    print(\"an error occured - {}\".format(e))\n",
    "\n",
    "# check account balance (target symbol)\n",
    "try:\n",
    "    target_balance = float(my_bnc.check_balance(target_symbol, user_no))\n",
    "except Exception as e:\n",
    "    print(\"an error occured - {}\".format(e))"
   ]
  },
  {
   "cell_type": "code",
   "execution_count": 51,
   "metadata": {},
   "outputs": [
    {
     "name": "stdout",
     "output_type": "stream",
     "text": [
      "87.5830843\n",
      "0.00088\n"
     ]
    }
   ],
   "source": [
    "print(base_balance)\n",
    "print(target_balance)"
   ]
  },
  {
   "cell_type": "code",
   "execution_count": 52,
   "metadata": {},
   "outputs": [
    {
     "data": {
      "text/plain": [
       "22587.35"
      ]
     },
     "execution_count": 52,
     "metadata": {},
     "output_type": "execute_result"
    }
   ],
   "source": [
    "# get all tick\n",
    "all_price = client.get_all_tickers()\n",
    "df_all_price = pd.DataFrame(all_price)\n",
    "\n",
    "# check target price\n",
    "price = df_all_price[(df_all_price.symbol == symbol)]\n",
    "price = float(price['price'])\n",
    "price"
   ]
  },
  {
   "cell_type": "code",
   "execution_count": 53,
   "metadata": {},
   "outputs": [],
   "source": [
    "# Position Sizing\n",
    "\n",
    "# BUY\n",
    "\n",
    "if buy_fixed_or_ratio == \"fixed\":\n",
    "    buy_amount = buy_fixed_amount_USDT / price\n",
    "    buy_amount\n",
    "\n",
    "elif buy_fixed_or_ratio == \"ratio\":\n",
    "    buy_amount = (base_balance * buy_ratio_percent) / price\n",
    "    buy_amount\n",
    "\n",
    "else:\n",
    "    buy_amount = 0\n",
    "\n",
    "# SELL\n",
    "\n",
    "if sell_fixed_or_ratio == \"fixed\":\n",
    "    sell_amount = sell_fixed_amount_USDT / price\n",
    "    sell_amount\n",
    "\n",
    "elif sell_fixed_or_ratio == \"ratio\":\n",
    "    sell_amount = (target_balance * sell_ratio_percent) / 100\n",
    "    sell_amount\n",
    "\n",
    "else:\n",
    "    sell_amount = 0"
   ]
  },
  {
   "cell_type": "code",
   "execution_count": 54,
   "metadata": {},
   "outputs": [
    {
     "name": "stdout",
     "output_type": "stream",
     "text": [
      "0.0008854513699039507\n",
      "0.00088\n",
      "0.00088\n"
     ]
    }
   ],
   "source": [
    "# order execution\n",
    "\n",
    "if side == \"BUY\":\n",
    "    order_amount = round(buy_amount,5)\n",
    "elif side == \"SELL\":\n",
    "    order_amount = round(sell_amount,5)\n",
    "else:\n",
    "    order_amount = \"N/A\"\n",
    "\n",
    "print(buy_amount)\n",
    "print(target_balance)\n",
    "print(order_amount)"
   ]
  },
  {
   "cell_type": "code",
   "execution_count": 55,
   "metadata": {},
   "outputs": [
    {
     "name": "stdout",
     "output_type": "stream",
     "text": [
      "BTCUSDT\n",
      "SELL\n",
      "0.00088\n"
     ]
    }
   ],
   "source": [
    "print(symbol)\n",
    "print(side)\n",
    "print(round(order_amount,5))"
   ]
  },
  {
   "cell_type": "code",
   "execution_count": 56,
   "metadata": {},
   "outputs": [],
   "source": [
    "order = client.create_order(symbol=symbol, side=side, type=ORDER_TYPE_MARKET, quantity=order_amount)\n"
   ]
  },
  {
   "cell_type": "code",
   "execution_count": 57,
   "metadata": {},
   "outputs": [
    {
     "name": "stdout",
     "output_type": "stream",
     "text": [
      "{'symbol': 'BTCUSDT', 'orderId': 11774056617, 'orderListId': -1, 'clientOrderId': 'IPflBglP1XVbmizpTDcLyK', 'transactTime': 1658417992157, 'price': '0.00000000', 'origQty': '0.00088000', 'executedQty': '0.00088000', 'cummulativeQuoteQty': '19.87671840', 'status': 'FILLED', 'timeInForce': 'GTC', 'type': 'MARKET', 'side': 'SELL', 'fills': [{'price': '22587.18000000', 'qty': '0.00088000', 'commission': '0.00000000', 'commissionAsset': 'BNB', 'tradeId': 1502965995}]}\n"
     ]
    }
   ],
   "source": [
    "print(order)"
   ]
  },
  {
   "cell_type": "code",
   "execution_count": null,
   "metadata": {},
   "outputs": [],
   "source": []
  }
 ],
 "metadata": {
  "kernelspec": {
   "display_name": "Python 3.8.12 ('base')",
   "language": "python",
   "name": "python3"
  },
  "language_info": {
   "codemirror_mode": {
    "name": "ipython",
    "version": 3
   },
   "file_extension": ".py",
   "mimetype": "text/x-python",
   "name": "python",
   "nbconvert_exporter": "python",
   "pygments_lexer": "ipython3",
   "version": "3.8.12"
  },
  "orig_nbformat": 4,
  "vscode": {
   "interpreter": {
    "hash": "9691719e8c11304b1807fcc4c40d1362e9078c37495c773686c399f2d7ac4a3d"
   }
  }
 },
 "nbformat": 4,
 "nbformat_minor": 2
}
